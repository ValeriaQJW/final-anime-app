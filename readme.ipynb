{
 "cells": [
  {
   "cell_type": "markdown",
   "metadata": {},
   "source": [
    "# Final Anime App\n",
    "## Anime Analysis And Recommanding System\n",
    "### Group 2: Yuchen Chang & Jingwen Qiu\n",
    "\n",
    "### I. Description\n",
    "Every animation content has its own viewers and each content has it's rating.\n",
    "Viewers leave some good ratings for the content if they like it. But what about a new viewer facing tremendous ratings and comments of a specific kind of content? How will they know what to try?\n",
    "Businesses need to provide suggestions based on viewers likings and needs in order to create a better animated environment that boosts revenue and increases the time spent on a website. So we made a basic app like this to satisfy such business needs and values.\n",
    "\n",
    "### II. Original Dataset\n",
    "Our raw database is from [Anime Recommendations Database in Kaggle](https://www.kaggle.com/datasets/CooperUnion/anime-recommendations-database)\n",
    "It originally contains seven types of data, including id, name, genre, type, episode, rating, rating member.\n",
    "\n",
    "### III. Questions & Analysis\n",
    "Since we find more and more viewers pay attention to the validity of ratings and which genre they will like, we come up with two questions below to figure out what is going on.\n",
    "\n",
    "- **Q1**: What is the relationship between rating and rating members?\n",
    "- **A1**: From selecting different 5000 samples, it’s not difficult for us to find that low rating has more rating members and high has less, so there might be a negative association between them. In other words, those higher rating scores of some animations are decided by less people. From the perspective of rating validity and credibility, high score doesn't mean fascination. Even though so many viewers take ratings as their only standard, we are here to suggest that viewers should take more things into consideration. For example, you can also choose the genres you like.\n",
    "\n",
    "- **Q2**: What is the most popular genre?\n",
    "- **A2**: The chart we made shows the numbers of anime that have the genre tags within the range that the users selected with filtering widgets. We can find out the most popular genre is comedy. If viewers are hesitated to determine what sorts they will like, they still can take the outcomes of this question into account. Just imagine! If you a beginner in Japanese animation and feel puzzled to decide where to begin your journey of anime, it might be a good idea to try one of the most popular genres.\n",
    "\n",
    "### IV. Functions\n",
    "*Our app can satisfy user diverse needs based on widgets including*:\n",
    "- choose different rating scores\n",
    "- choose different genres\n",
    "- choose different episode lengths\n",
    "\n",
    "*Our app can deploy diverse visualization results based on plots and charts including*:\n",
    "- a bar plot and a dataframe of rating members based on the range users choose\n",
    "- a horizontal bar plot to describe the number of different genres\n",
    "- a pie chart of each type's proportion\n",
    "- a distribution histogram and trending line of all the ratings\n",
    "\n",
    "\n",
    "\n",
    "\n"
   ]
  }
 ],
 "metadata": {
  "kernelspec": {
   "display_name": "Python 3.9.6 64-bit",
   "language": "python",
   "name": "python3"
  },
  "language_info": {
   "name": "python",
   "version": "3.9.6"
  },
  "orig_nbformat": 4,
  "vscode": {
   "interpreter": {
    "hash": "8f939dc046ae95b61db57b1ddfb635e5199eac9f7bf30422bfd106b8f44dc254"
   }
  }
 },
 "nbformat": 4,
 "nbformat_minor": 2
}
